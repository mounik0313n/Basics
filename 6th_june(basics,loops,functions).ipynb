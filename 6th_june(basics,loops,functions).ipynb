{
  "nbformat": 4,
  "nbformat_minor": 0,
  "metadata": {
    "colab": {
      "provenance": []
    },
    "kernelspec": {
      "name": "python3",
      "display_name": "Python 3"
    },
    "language_info": {
      "name": "python"
    }
  },
  "cells": [
    {
      "cell_type": "code",
      "execution_count": 1,
      "metadata": {
        "id": "YXq8gISzoLmS",
        "colab": {
          "base_uri": "https://localhost:8080/"
        },
        "outputId": "1a0a30de-ce6d-436d-d65d-79499d4d3c28"
      },
      "outputs": [
        {
          "output_type": "stream",
          "name": "stdout",
          "text": [
            "enter your name: mounik\n",
            "hello mounik\n"
          ]
        }
      ],
      "source": [
        "#Python basics\n",
        "#input and output statements\n",
        "name = input(\"enter your name: \")\n",
        "print(\"hello\",name)"
      ]
    },
    {
      "cell_type": "code",
      "source": [
        "#data types in python\n",
        "int_num = 100\n",
        "float_num = 10.5\n",
        "complex_num = 1+2j\n",
        "string = \"hello\"\n",
        "bool_val = True\n",
        "list_example = [1,2,3]\n",
        "tuple_example = (1,2,3,4)\n",
        "set_example = {1,2,3}\n",
        "dictionary_example = {'A':1,'B':2}"
      ],
      "metadata": {
        "id": "-lFRD29i6jZz"
      },
      "execution_count": 7,
      "outputs": []
    },
    {
      "cell_type": "code",
      "source": [
        "#expressions and operators\n",
        "a=10\n",
        "b=1\n",
        "print(a+b)#sum\n",
        "print(a-b)#difference\n",
        "print(a*b)#multiplication\n",
        "print(a/b)#division\n",
        "print(a%b)#modulus\n",
        "print(a//b)#floor division\n",
        "print(a**b)#exponent"
      ],
      "metadata": {
        "colab": {
          "base_uri": "https://localhost:8080/"
        },
        "id": "fGLw15E07-4r",
        "outputId": "267ba913-0fb0-462e-dd29-8cd5f340c123"
      },
      "execution_count": 5,
      "outputs": [
        {
          "output_type": "stream",
          "name": "stdout",
          "text": [
            "11\n",
            "9\n",
            "10\n",
            "10.0\n",
            "0\n",
            "10\n",
            "10\n"
          ]
        }
      ]
    },
    {
      "cell_type": "code",
      "source": [
        "#comparison operator\n",
        "print(a==b)\n",
        "print(a!=b)\n",
        "print(a>b)\n",
        "print(a<b)\n",
        "print(a>=b)\n",
        "print(a<=b)"
      ],
      "metadata": {
        "colab": {
          "base_uri": "https://localhost:8080/"
        },
        "id": "jl39oLnW8bs2",
        "outputId": "69ba1c26-4bf3-4fa1-b938-581b3b6649a9"
      },
      "execution_count": 4,
      "outputs": [
        {
          "output_type": "stream",
          "name": "stdout",
          "text": [
            "False\n",
            "True\n",
            "True\n",
            "False\n",
            "True\n",
            "False\n"
          ]
        }
      ]
    },
    {
      "cell_type": "code",
      "source": [
        "#logical operator\n",
        "a=10\n",
        "b=1\n",
        "print(a>b and a<b)\n",
        "print(a>b or a<b)\n",
        "print(not a>b)"
      ],
      "metadata": {
        "colab": {
          "base_uri": "https://localhost:8080/"
        },
        "id": "mBX39SBA8nTQ",
        "outputId": "fc4e44df-560c-4cf8-daea-a21c0fcce473"
      },
      "execution_count": 3,
      "outputs": [
        {
          "output_type": "stream",
          "name": "stdout",
          "text": [
            "False\n",
            "True\n",
            "False\n"
          ]
        }
      ]
    },
    {
      "cell_type": "code",
      "source": [
        "#type casting\n",
        "a=10\n",
        "print(float(a))\n",
        "print(int(a))\n",
        "print(str(a))\n",
        "tuple_from_list = list((1,2,3))\n",
        "list_from_string = str([1,2,3])\n",
        "set_from_list = set([1,2,3])\n",
        "print(tuple_from_list)\n",
        "print(list_from_string)\n",
        "print(set_from_list)"
      ],
      "metadata": {
        "colab": {
          "base_uri": "https://localhost:8080/"
        },
        "id": "TNn0Fqxa843s",
        "outputId": "2d38175f-0b11-4cf1-a414-ca864b81c122"
      },
      "execution_count": 8,
      "outputs": [
        {
          "output_type": "stream",
          "name": "stdout",
          "text": [
            "10.0\n",
            "10\n",
            "10\n",
            "[1, 2, 3]\n",
            "[1, 2, 3]\n",
            "{1, 2, 3}\n"
          ]
        }
      ]
    },
    {
      "cell_type": "code",
      "source": [
        "#conditional statements\n",
        "a=10\n",
        "b=1\n",
        "if a>b:\n",
        "    print(\"a is greater than b\")\n",
        "elif a<b:\n",
        "    print(\"a is less than b\")\n",
        "else:\n",
        "    print(\"a is equal to b\")"
      ],
      "metadata": {
        "id": "uc0M3Zmf9XR5"
      },
      "execution_count": null,
      "outputs": []
    },
    {
      "cell_type": "code",
      "source": [
        "#looping statements\n",
        "for i in range(10):\n",
        "    print(i)\n",
        "count =0\n",
        "while count<10:\n",
        "    print(count)\n",
        "    count+=1"
      ],
      "metadata": {
        "colab": {
          "base_uri": "https://localhost:8080/"
        },
        "collapsed": true,
        "id": "OxHctPen9lcK",
        "outputId": "7f07e681-a966-4e64-d986-a1e6d94c6975"
      },
      "execution_count": 9,
      "outputs": [
        {
          "output_type": "stream",
          "name": "stdout",
          "text": [
            "0\n",
            "1\n",
            "2\n",
            "3\n",
            "4\n",
            "5\n",
            "6\n",
            "7\n",
            "8\n",
            "9\n",
            "0\n",
            "1\n",
            "2\n",
            "3\n",
            "4\n",
            "5\n",
            "6\n",
            "7\n",
            "8\n",
            "9\n"
          ]
        }
      ]
    },
    {
      "cell_type": "code",
      "source": [
        "#jumping statements\n",
        "for i in range(10):\n",
        "    if i==5:\n",
        "        break\n",
        "    print(i)\n",
        "#using continue statement\n",
        "for i in range(10):\n",
        "    if i==5:\n",
        "        continue\n",
        "    print(i)"
      ],
      "metadata": {
        "colab": {
          "base_uri": "https://localhost:8080/"
        },
        "collapsed": true,
        "id": "wiG78fEw92yT",
        "outputId": "b33d6cd2-0fe4-4f88-e2de-44a77d92bc05"
      },
      "execution_count": 10,
      "outputs": [
        {
          "output_type": "stream",
          "name": "stdout",
          "text": [
            "0\n",
            "1\n",
            "2\n",
            "3\n",
            "4\n",
            "0\n",
            "1\n",
            "2\n",
            "3\n",
            "4\n",
            "6\n",
            "7\n",
            "8\n",
            "9\n"
          ]
        }
      ]
    },
    {
      "cell_type": "code",
      "source": [
        "#speacial functions\n",
        "fruits = [\"apple\",\"banana\",\"cherry\"]\n",
        "print(len(fruits))\n",
        "print(sorted(fruits))"
      ],
      "metadata": {
        "id": "wPWOkVm--B_K"
      },
      "execution_count": null,
      "outputs": []
    },
    {
      "cell_type": "code",
      "source": [
        "#example functions\n",
        "def add(a,b):\n",
        "    return a+b\n",
        "def sub(a,b):\n",
        "    return a-b\n",
        "def mul(a,b):\n",
        "    return a*b\n",
        "def div(a,b):\n",
        "    return a/b\n",
        "print(add(10,5))\n",
        "print(sub(10,5))\n",
        "print(mul(10,5))\n",
        "print(div(10,5))"
      ],
      "metadata": {
        "id": "AvOSRDRq-UOq"
      },
      "execution_count": null,
      "outputs": []
    }
  ]
}