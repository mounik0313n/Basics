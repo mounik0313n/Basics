{
  "nbformat": 4,
  "nbformat_minor": 0,
  "metadata": {
    "colab": {
      "provenance": []
    },
    "kernelspec": {
      "name": "python3",
      "display_name": "Python 3"
    },
    "language_info": {
      "name": "python"
    }
  },
  "cells": [
    {
      "cell_type": "code",
      "execution_count": null,
      "metadata": {
        "id": "bpb9SeOe8dNA"
      },
      "outputs": [],
      "source": [
        "#creating a base class\n",
        "class Animal:\n",
        "    def eat(self):\n",
        "        print(\"eating\")"
      ]
    },
    {
      "cell_type": "code",
      "source": [
        "#Base class and child class\n",
        "class Dog(Animal):\n",
        "    def bark(self):\n",
        "        print(\"barking\")\n",
        "\n",
        "class Cat(Animal):\n",
        "    def meow(self):\n",
        "        print(\"meow\")"
      ],
      "metadata": {
        "id": "3UIc50Yi82OA"
      },
      "execution_count": null,
      "outputs": []
    },
    {
      "cell_type": "code",
      "source": [
        "#using classes for code reusability\n",
        "class A:\n",
        "  @staticmethod\n",
        "  def add(x, y):\n",
        "    return x + y\n",
        "\n",
        "class B:\n",
        "  @staticmethod\n",
        "  def sub(x, y):\n",
        "    return x - y\n",
        "\n",
        "class C:\n",
        "  @staticmethod\n",
        "  def multi(x, y):\n",
        "    return x * y\n",
        "\n",
        "class D:\n",
        "  @staticmethod\n",
        "  def div(x, y):\n",
        "    return x / y\n",
        "\n",
        "print(A.add(1, 2))\n",
        "print(B.sub(1, 2))\n",
        "print(C.multi(1, 2))\n",
        "print(D.div(1, 2))"
      ],
      "metadata": {
        "id": "rBDXLotP8-r8"
      },
      "execution_count": null,
      "outputs": []
    },
    {
      "cell_type": "code",
      "source": [
        "#hierarchy in classes\n",
        "class A:\n",
        "  pass\n",
        "\n",
        "class B(A):\n",
        "  pass\n",
        "\n",
        "class D(B, A):\n",
        "  pass"
      ],
      "metadata": {
        "id": "narWNPtL9cQN"
      },
      "execution_count": null,
      "outputs": []
    },
    {
      "cell_type": "code",
      "source": [
        "#Extensibility in classes\n",
        "class A:\n",
        "  def add(self, x, y):\n",
        "    return x + y\n",
        "\n",
        "class B(A):\n",
        "  def add(self, x, y):\n",
        "    return x - y\n",
        "\n",
        "b = B()\n",
        "print(b.add(1, 2))"
      ],
      "metadata": {
        "id": "9xbnYXLB9qnX"
      },
      "execution_count": null,
      "outputs": []
    },
    {
      "cell_type": "code",
      "source": [
        "#polymorphism\n",
        "class A:\n",
        "  def add(self, x, y):\n",
        "    return x + y\n",
        "\n",
        "class B(A):\n",
        "  def add(self, x, y):\n",
        "    return x - y\n",
        "\n",
        "a = A()\n",
        "b = B()\n",
        "print(a.add(1, 2))\n",
        "print(b.add(1, 2))"
      ],
      "metadata": {
        "id": "OrngbBSS92_m"
      },
      "execution_count": null,
      "outputs": []
    },
    {
      "cell_type": "code",
      "source": [
        "#encapsulation\n",
        "class A:\n",
        "  def __init__(self, name):\n",
        "    self.name = name\n",
        "\n",
        "a = A(\"John\")\n",
        "print(a.name)"
      ],
      "metadata": {
        "id": "dgLrVTJr-DsC"
      },
      "execution_count": null,
      "outputs": []
    },
    {
      "cell_type": "code",
      "source": [
        "#method resolution order\n",
        "class A:\n",
        "  def add(self, x, y):\n",
        "    return x + y\n",
        "\n",
        "class B(A):\n",
        "  def add(self, x, y):\n",
        "    return x - y\n",
        "\n",
        "a,b,c = A(),B(),A()\n",
        "print(a.add(1, 2))\n",
        "print(b.add(1, 2))\n",
        "print(c.add(1, 2))\n"
      ],
      "metadata": {
        "id": "1Aopl2lI-MBN"
      },
      "execution_count": null,
      "outputs": []
    },
    {
      "cell_type": "code",
      "source": [
        "#multiple inheritance\n",
        "class A:\n",
        "  def greet(self):\n",
        "    print(\"Hello\")\n",
        "\n",
        "class B:\n",
        "  def greet(self):\n",
        "    print(\"Hi\")\n",
        "\n",
        "class C(A, B):\n",
        "  def greet2(self):\n",
        "    print(\"Hey\")\n",
        "\n",
        "c = C()\n",
        "c.greet()\n",
        "c.greet2()"
      ],
      "metadata": {
        "id": "u1LN5slW-jsz"
      },
      "execution_count": null,
      "outputs": []
    },
    {
      "cell_type": "code",
      "source": [
        "class Country:\n",
        "  def __init__(self, country):\n",
        "    self.country = country\n",
        "class State(Country):\n",
        "  def __init__(self, state, country):\n",
        "    super().__init__(country)\n",
        "    self.state = state\n",
        "class District(State):\n",
        "  def __init__(self, district, state, country):\n",
        "    super().__init__(state, country)\n",
        "    self.district = district\n",
        "\n",
        "A = District(\"A\", \"B\", \"C\")\n",
        "print(A.country)\n",
        "print(A.state)\n",
        "print(A.district)"
      ],
      "metadata": {
        "id": "BhRZC7cn_I7-"
      },
      "execution_count": null,
      "outputs": []
    },
    {
      "cell_type": "code",
      "source": [
        "#heirarchical inheritance\n",
        "class A:\n",
        "  def greet(self):\n",
        "    print(\"Hello\")\n",
        "\n",
        "class B(A):\n",
        "  def greet(self):\n",
        "    print(\"Hi\")\n",
        "\n",
        "class C(A):\n",
        "  def greet(self):\n",
        "    print(\"Hey\")"
      ],
      "metadata": {
        "id": "JNkaNXLC_eGg"
      },
      "execution_count": null,
      "outputs": []
    },
    {
      "cell_type": "code",
      "source": [
        "#Method overloading\n",
        "class A:\n",
        "  def add(a,b):\n",
        "    return a+b\n",
        "class B:\n",
        "  def add(a,b):\n",
        "    print(\"Sum of a+b: \",a+b)"
      ],
      "metadata": {
        "id": "cBvnMmuKAGnZ"
      },
      "execution_count": 1,
      "outputs": []
    },
    {
      "cell_type": "code",
      "source": [
        "#exception handling with zero division error\n",
        "try:\n",
        "  print(1/0)\n",
        "except:\n",
        "  print(\"Zero division error\")\n"
      ],
      "metadata": {
        "id": "iquNdMumAnmk"
      },
      "execution_count": null,
      "outputs": []
    },
    {
      "cell_type": "code",
      "source": [
        "#multiple exceptions\n",
        "try:\n",
        "  print(1/0)\n",
        "except ZeroDivisionError:\n",
        "  print(\"Zero division error\")\n",
        "except TypeError:\n",
        "  print(\"Type error\")"
      ],
      "metadata": {
        "id": "kOORWyVUGo8A"
      },
      "execution_count": null,
      "outputs": []
    },
    {
      "cell_type": "code",
      "source": [
        "#using finally block\n",
        "try:\n",
        "  print(1/0)\n",
        "except ZeroDivisionError:\n",
        "  print(\"Zero division error\")\n",
        "except TypeError:\n",
        "  print(\"Type error\")\n",
        "finally:\n",
        "  print(\"finally block\")"
      ],
      "metadata": {
        "id": "D4Pnjg6oGuP_"
      },
      "execution_count": null,
      "outputs": []
    },
    {
      "cell_type": "code",
      "source": [
        "#syntax error exception\n",
        "try:\n",
        "  eval(\"1+2\")\n",
        "except SyntaxError:\n",
        "  print(\"Syntax error\")"
      ],
      "metadata": {
        "id": "jYgMhCQLG91Q"
      },
      "execution_count": null,
      "outputs": []
    },
    {
      "cell_type": "code",
      "source": [
        "#name error\n",
        "try:\n",
        "  print(x)\n",
        "except NameError:\n",
        "  print(\"Name error\")"
      ],
      "metadata": {
        "id": "ZlNYm7v2HI92"
      },
      "execution_count": null,
      "outputs": []
    },
    {
      "cell_type": "code",
      "source": [
        "#type error\n",
        "try:\n",
        "  print(1/'a')\n",
        "except TypeError:\n",
        "  print(\"Type error\")"
      ],
      "metadata": {
        "colab": {
          "base_uri": "https://localhost:8080/"
        },
        "id": "yT5EVSEfHUr9",
        "outputId": "470bea6e-c7e4-4ccd-a81a-169446d27772"
      },
      "execution_count": 1,
      "outputs": [
        {
          "output_type": "stream",
          "name": "stdout",
          "text": [
            "Type error\n"
          ]
        }
      ]
    },
    {
      "cell_type": "code",
      "source": [
        "#value error\n",
        "try:\n",
        "  print(int(\"abc\"))\n",
        "except ValueError:\n",
        "  print(\"Value error\")"
      ],
      "metadata": {
        "id": "3ajKrLI2Ha9l"
      },
      "execution_count": null,
      "outputs": []
    },
    {
      "cell_type": "code",
      "source": [
        "#custom exception\n",
        "class MyException(Exception):\n",
        "  pass\n",
        "\n",
        "try:\n",
        "  raise MyException(\"My exception\")\n",
        "except MyException as e:\n",
        "  print(e)"
      ],
      "metadata": {
        "id": "FesJ0RdHHjp-"
      },
      "execution_count": null,
      "outputs": []
    },
    {
      "cell_type": "code",
      "source": [
        "#rising built in exception\n",
        "def add(a,b):\n",
        "  if(b==0):\n",
        "    raise ZeroDivisionError(\"Because of zero parameter\")\n",
        "  else:\n",
        "    return a/b\n",
        "\n",
        "print(add(10,0))"
      ],
      "metadata": {
        "id": "0DSpRcbUVJXe"
      },
      "execution_count": null,
      "outputs": []
    },
    {
      "cell_type": "code",
      "source": [
        "class Palind(Exception):\n",
        "  pass\n",
        "def pal(a):\n",
        "  if(a==a[::-1]):\n",
        "    raise Palind(\"Palindrome\")\n",
        "  else:\n",
        "    print(\"Not palindrome\")\n",
        "try:\n",
        "  pal(\"malayalam\")\n",
        "except Palind as e:\n",
        "  print(e)"
      ],
      "metadata": {
        "id": "-udyXXh_VkLP"
      },
      "execution_count": null,
      "outputs": []
    },
    {
      "cell_type": "code",
      "source": [
        "x=[i for i in range(10)]\n",
        "x=x[::-1]\n",
        "try:\n",
        "  for j in x:\n",
        "    print(j)\n",
        "except:\n",
        "  print(\"error\")"
      ],
      "metadata": {
        "id": "Iu-enlouV7gw"
      },
      "execution_count": null,
      "outputs": []
    },
    {
      "cell_type": "code",
      "source": [
        "def div(a,b):\n",
        "  if(b==0):\n",
        "    raise ZeroDivisionError(\"Because of zero parameter\")\n",
        "  else:\n",
        "    return a/b\n",
        "\n",
        "print(div(10,0))"
      ],
      "metadata": {
        "id": "ycLRwvYTWI6D"
      },
      "execution_count": null,
      "outputs": []
    },
    {
      "cell_type": "code",
      "source": [
        "try:\n",
        "  print(int(10,0))\n",
        "  print(int(\"Python\"))\n",
        "except ValueError:\n",
        "  print(\"Value error\")"
      ],
      "metadata": {
        "id": "tP-uKy4sWPVd"
      },
      "execution_count": null,
      "outputs": []
    },
    {
      "cell_type": "code",
      "source": [
        "import math\n",
        "class negative(Exception):\n",
        "  pass\n",
        "def square(a):\n",
        "  if(a<0):\n",
        "    raise negative(\"passing negative parameter\")\n",
        "  else:\n",
        "    return math.sqrt(a)\n",
        "try:\n",
        "  print(square(-1))\n",
        "except negative as e:\n",
        "  print(e)"
      ],
      "metadata": {
        "id": "3SbG80afWa2c"
      },
      "execution_count": null,
      "outputs": []
    }
  ]
}