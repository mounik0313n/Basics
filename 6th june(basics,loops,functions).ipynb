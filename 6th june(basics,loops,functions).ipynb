{
  "cells": [
    {
      "cell_type": "code",
      "execution_count": null,
      "metadata": {
        "colab": {
          "base_uri": "https://localhost:8080/"
        },
        "id": "rCOGcInqWkCz",
        "outputId": "64617b5f-67c3-4111-dc40-d0b7b5f8b905"
      },
      "outputs": [
        {
          "output_type": "stream",
          "name": "stdout",
          "text": [
            "hello\n"
          ]
        }
      ],
      "source": [
        "print(\"hello\")"
      ]
    },
    {
      "cell_type": "code",
      "execution_count": null,
      "metadata": {
        "colab": {
          "base_uri": "https://localhost:8080/"
        },
        "id": "yBwn0BgbXFBN",
        "outputId": "664a08e6-8523-4355-b996-66e6d130c15a"
      },
      "outputs": [
        {
          "output_type": "stream",
          "name": "stdout",
          "text": [
            "Enter your name: mp\n",
            "hello mp\n"
          ]
        }
      ],
      "source": [
        "a = input(\"Enter your name: \")\n",
        "print(\"hello\"+\" \"+a)"
      ]
    },
    {
      "cell_type": "code",
      "execution_count": null,
      "metadata": {
        "colab": {
          "base_uri": "https://localhost:8080/"
        },
        "id": "Uz3FO9GgDLAI",
        "outputId": "c5a89929-d39e-44a9-82e9-c11f29d384ff"
      },
      "outputs": [
        {
          "output_type": "stream",
          "name": "stdout",
          "text": [
            "3\n"
          ]
        }
      ],
      "source": [
        "#finding min and max value\n",
        "def max(a,b,c):\n",
        "  if a>b and a>c:\n",
        "    return a\n",
        "  elif b>a and b>c:\n",
        "    return b\n",
        "  else:\n",
        "    return c\n",
        "def min(a,b,c):\n",
        "  if a<b and a<c:\n",
        "    return a\n",
        "  elif b<a and b<c:\n",
        "    return b\n",
        "  else:\n",
        "    return c\n",
        "print(max(1,2,3))"
      ]
    },
    {
      "cell_type": "code",
      "execution_count": null,
      "metadata": {
        "colab": {
          "base_uri": "https://localhost:8080/"
        },
        "id": "0H31O2TYD_uY",
        "outputId": "c8a668e2-5aa1-446c-a0f2-d67e738256d0"
      },
      "outputs": [
        {
          "output_type": "stream",
          "name": "stdout",
          "text": [
            "15\n"
          ]
        }
      ],
      "source": [
        "#functions for basic mathematical operations\n",
        "def sum_add(*num):\n",
        "  return sum(num)\n",
        "def subtract(a,b):\n",
        "  return a-b\n",
        "def multiply(a,b):\n",
        "  return a*b\n",
        "def divide(a,b):\n",
        "  return a/b\n",
        "print(sum_add(1,2,3,4,5))"
      ]
    },
    {
      "cell_type": "code",
      "source": [
        "#usage of if else and basic operations\n",
        "num1 = input(\"enter 1st number: \")\n",
        "num2 = input(\"enter 2nd number: \")\n",
        "print(\"1.sum \\n 2.difference \\n 3.dividion \\n 4. multiplication\")\n",
        "op = input(\"choose option:\")\n",
        "if op == \"1\":\n",
        "  print(int(num1)+int(num2))\n",
        "elif op == \"2\":\n",
        "  print(int(num1)-int(num2))\n",
        "elif op == \"3\":\n",
        "  print(int(num1)/int(num2))\n",
        "elif op == \"4\":\n",
        "  print(int(num1)*int(num2))\n",
        "else :\n",
        "  print(\"invalid\")\n",
        "print(\"Thank you\")"
      ],
      "metadata": {
        "id": "cTh1l7e-1SEp",
        "colab": {
          "base_uri": "https://localhost:8080/"
        },
        "outputId": "f485c056-2161-4021-ad57-d8f9b0a7d9e4"
      },
      "execution_count": null,
      "outputs": [
        {
          "output_type": "stream",
          "name": "stdout",
          "text": [
            "enter 1st number: 1\n",
            "enter 2nd number: 2\n",
            "1.sum \n",
            " 2.difference \n",
            " 3.dividion \n",
            " 4. multiplication\n",
            "choose option:1\n",
            "3\n",
            "Thank you\n"
          ]
        }
      ]
    },
    {
      "cell_type": "code",
      "source": [
        "#default keyword argrumnet\n",
        "def add(a,b,c=0):\n",
        "  return a+b+c\n",
        "print(add(1,2))"
      ],
      "metadata": {
        "colab": {
          "base_uri": "https://localhost:8080/"
        },
        "id": "-f5TR9Itfk8L",
        "outputId": "1e47d42a-b93f-4a3d-d7f1-e148f5607961"
      },
      "execution_count": null,
      "outputs": [
        {
          "output_type": "stream",
          "name": "stdout",
          "text": [
            "3\n"
          ]
        }
      ]
    },
    {
      "cell_type": "code",
      "source": [
        "#lambda function\n",
        "add = lambda a,b:a+b\n",
        "print(add(1,2))"
      ],
      "metadata": {
        "colab": {
          "base_uri": "https://localhost:8080/"
        },
        "id": "fHo2GfZzgWxi",
        "outputId": "0488aa94-bbbb-4de8-89cd-bb2e481696fe"
      },
      "execution_count": null,
      "outputs": [
        {
          "output_type": "stream",
          "name": "stdout",
          "text": [
            "3\n"
          ]
        }
      ]
    },
    {
      "cell_type": "code",
      "source": [
        "#map function triple\n",
        "num1 = [1,2,3,4,5]\n",
        "num2 = list(map(lambda x:x**3,num1))\n",
        "print(num2)"
      ],
      "metadata": {
        "colab": {
          "base_uri": "https://localhost:8080/"
        },
        "id": "vnSjRMc1gvc_",
        "outputId": "67400666-d2cb-41c4-d119-042054ad39f7"
      },
      "execution_count": null,
      "outputs": [
        {
          "output_type": "stream",
          "name": "stdout",
          "text": [
            "[1, 8, 27, 64, 125]\n"
          ]
        }
      ]
    },
    {
      "cell_type": "code",
      "source": [
        "#recursion\n",
        "def factorial(n):\n",
        "  if n==1:\n",
        "    return 1\n",
        "  else:\n",
        "    return n*factorial(n-1)\n",
        "print(factorial(5))"
      ],
      "metadata": {
        "colab": {
          "base_uri": "https://localhost:8080/"
        },
        "id": "wtwA16P1ghcb",
        "outputId": "86d68347-bef7-412b-d2db-090d55ec0e1b"
      },
      "execution_count": null,
      "outputs": [
        {
          "output_type": "stream",
          "name": "stdout",
          "text": [
            "120\n"
          ]
        }
      ]
    },
    {
      "cell_type": "code",
      "source": [
        "#nested function\n",
        "def outer():\n",
        "  def inner():\n",
        "    print(\"inner function\")\n",
        "  inner()\n",
        "outer()"
      ],
      "metadata": {
        "colab": {
          "base_uri": "https://localhost:8080/"
        },
        "id": "-6BJDyjygmjA",
        "outputId": "05c77cc7-5140-48cf-fd43-b8aee1a61adf"
      },
      "execution_count": null,
      "outputs": [
        {
          "output_type": "stream",
          "name": "stdout",
          "text": [
            "inner function\n"
          ]
        }
      ]
    },
    {
      "cell_type": "code",
      "source": [
        "#calculating area and perimeter for square, rectangle, triangle, circle\n",
        "def area(a):\n",
        "  return a**2\n",
        "def perimeter(a):\n",
        "  return 4*a\n",
        "\n",
        "def triangle(b,h):\n",
        "  return 0.5*b*h\n",
        "def circle(r):\n",
        "  return 3.14*r**2\n",
        "def rectangle(l,b):\n",
        "  return l*b\n",
        "def square(s):\n",
        "  return s**2\n",
        "print(\"1.square \\n 2.rectangle \\n 3.triangle \\n 4.circle\")\n",
        "op = input(\"enter operation: \")\n",
        "num1 = input(\"enter 1st number: \")\n",
        "if op == \"1\":\n",
        "  print(square(int(num1)))\n",
        "elif op == \"2\":\n",
        "  num2 = input(\"enter 2nd number: \")\n",
        "  print(rectangle(int(num1),int(num2)))\n",
        "elif op == \"3\":\n",
        "  num2 = input(\"enter 2nd number: \")\n",
        "  print(triangle(int(num1),int(num2)))\n",
        "elif op == \"4\":\n",
        "  print(circle(int(num1)))\n",
        "else :\n",
        "  print(\"invalid\")"
      ],
      "metadata": {
        "colab": {
          "base_uri": "https://localhost:8080/"
        },
        "id": "JhLtssg7g5dX",
        "outputId": "f4e9b1b2-5674-4eee-b072-914478c23bb4"
      },
      "execution_count": null,
      "outputs": [
        {
          "output_type": "stream",
          "name": "stdout",
          "text": [
            "1.square \n",
            " 2.rectangle \n",
            " 3.triangle \n",
            " 4.circle\n",
            "enter operation: 1\n",
            "enter 1st number: 2\n",
            "4\n"
          ]
        }
      ]
    },
    {
      "cell_type": "code",
      "source": [
        "#function to reverse\n",
        "def reverse(s):\n",
        "  return s[::-1]\n",
        "a= input(\"enter string: \")\n",
        "print(reverse(a))"
      ],
      "metadata": {
        "colab": {
          "base_uri": "https://localhost:8080/"
        },
        "id": "mu6RVOrch1Mt",
        "outputId": "f891e9a1-73b6-4215-c801-79d940130e6e"
      },
      "execution_count": null,
      "outputs": [
        {
          "output_type": "stream",
          "name": "stdout",
          "text": [
            "enter string: 3\n",
            "3\n"
          ]
        }
      ]
    },
    {
      "cell_type": "code",
      "source": [
        "#counting the occurence\n",
        "def count(a):\n",
        "  count = {}\n",
        "  for i in a:\n",
        "    if i in count:\n",
        "      count[i]+=1\n",
        "    else:\n",
        "      count[i]=1\n",
        "  return count\n",
        "\n",
        "  print(count(\"apple\"))"
      ],
      "metadata": {
        "id": "Pd8sgsI6iuq-"
      },
      "execution_count": null,
      "outputs": []
    },
    {
      "cell_type": "markdown",
      "source": [
        "Basic OOps concept"
      ],
      "metadata": {
        "id": "18NfoMyykPqq"
      }
    },
    {
      "cell_type": "code",
      "source": [
        "#basic class syntax\n",
        "class Employee:\n",
        "  pass\n",
        "obj = Employee()\n",
        "print(obj)"
      ],
      "metadata": {
        "id": "eOxXdnWBkAXC"
      },
      "execution_count": null,
      "outputs": []
    },
    {
      "cell_type": "code",
      "source": [
        "class LPU:\n",
        "  def __init__(self, name, class1, address):\n",
        "    self.name = name\n",
        "    self.class1 = class1\n",
        "    self.address = address\n",
        "\n",
        "obj = LPU(\"abc\", \"xyz\", \"pqr\")\n",
        "\n",
        "print(\"Name:\", obj.name)\n",
        "print(\"Class:\", obj.class1)\n",
        "print(\"Address:\", obj.address)"
      ],
      "metadata": {
        "id": "dGlRzPRvlztn"
      },
      "execution_count": null,
      "outputs": []
    },
    {
      "cell_type": "code",
      "source": [
        "#encapsulation\n",
        "class LPU:\n",
        "  def __init__(self, name, class1, address):\n",
        "    self.name = name\n",
        "    self.class1 = class1\n",
        "    self.address = address"
      ],
      "metadata": {
        "id": "9c2-p3jnl0jP"
      },
      "execution_count": null,
      "outputs": []
    },
    {
      "cell_type": "code",
      "source": [
        "#inheritance\n",
        "class LPU:\n",
        "  def __init__(self, name, class1, address):\n",
        "    self.name = name\n",
        "    self.class1 = class1\n",
        "    self.address = address\n",
        "class Student(LPU):\n",
        "  def __init__(self, name, class1, address, rollno):\n",
        "    super().__init__(name, class1, address)\n",
        "    self.rollno = rollno\n",
        "obj = Student(\"abc\", \"xyz\", \"pqr\", 123)\n",
        "print(obj.name)\n",
        "print(obj.class1)\n",
        "print(obj.address)\n",
        "print(obj.rollno)"
      ],
      "metadata": {
        "id": "YyB05Yg2mQRv"
      },
      "execution_count": null,
      "outputs": []
    }
  ],
  "metadata": {
    "colab": {
      "provenance": []
    },
    "kernelspec": {
      "display_name": "Python 3",
      "name": "python3"
    },
    "language_info": {
      "name": "python"
    }
  },
  "nbformat": 4,
  "nbformat_minor": 0
}
