{
  "nbformat": 4,
  "nbformat_minor": 0,
  "metadata": {
    "colab": {
      "provenance": []
    },
    "kernelspec": {
      "name": "python3",
      "display_name": "Python 3"
    },
    "language_info": {
      "name": "python"
    }
  },
  "cells": [
    {
      "cell_type": "code",
      "execution_count": 9,
      "metadata": {
        "id": "xbB3KYHvEJmc",
        "colab": {
          "base_uri": "https://localhost:8080/"
        },
        "outputId": "f151bc46-b4ac-4891-b25a-9e4dbbf9d243"
      },
      "outputs": [
        {
          "output_type": "stream",
          "name": "stdout",
          "text": [
            "[1, 2, 3, 4, 5]\n"
          ]
        }
      ],
      "source": [
        "#how to create a list\n",
        "a=[1,2,3,4,5]\n",
        "print(a)"
      ]
    },
    {
      "cell_type": "code",
      "source": [
        "#List operations\n",
        "a=[1,2,3,4,5]\n",
        "print(\"to acess first element: \",a[0])\n",
        "print(\"to acess last element: \",a[-1])\n",
        "print(\"to acess range of elements: \",a[1:4])"
      ],
      "metadata": {
        "id": "h9zgLNf3Vo36",
        "colab": {
          "base_uri": "https://localhost:8080/"
        },
        "outputId": "097c857b-8ace-4104-f95d-f4202f2178e8"
      },
      "execution_count": 10,
      "outputs": [
        {
          "output_type": "stream",
          "name": "stdout",
          "text": [
            "to acess first element:  1\n",
            "to acess last element:  5\n",
            "to acess range of elements:  [2, 3, 4]\n"
          ]
        }
      ]
    },
    {
      "cell_type": "code",
      "source": [
        "#append an element to list\n",
        "a=[1,2,3,4,5]\n",
        "a.append(6)\n",
        "print(a)"
      ],
      "metadata": {
        "id": "dM5uBWZrV2oD",
        "colab": {
          "base_uri": "https://localhost:8080/"
        },
        "outputId": "72945e44-8ab9-4858-87e5-0485ef2c7727"
      },
      "execution_count": 11,
      "outputs": [
        {
          "output_type": "stream",
          "name": "stdout",
          "text": [
            "[1, 2, 3, 4, 5, 6]\n"
          ]
        }
      ]
    },
    {
      "cell_type": "code",
      "source": [
        "#remove an element in a list\n",
        "a=[1,2,3,4,5]\n",
        "a.remove(3)\n",
        "print(a)"
      ],
      "metadata": {
        "id": "zG5KEfksWK6y",
        "colab": {
          "base_uri": "https://localhost:8080/"
        },
        "outputId": "94a22e99-a760-4964-87e2-3233e1747d7d"
      },
      "execution_count": 12,
      "outputs": [
        {
          "output_type": "stream",
          "name": "stdout",
          "text": [
            "[1, 2, 4, 5]\n"
          ]
        }
      ]
    },
    {
      "cell_type": "code",
      "source": [
        "#pop an element in a list\n",
        "a=[1,2,3,4,5]\n",
        "a.pop(2)\n",
        "print(a)"
      ],
      "metadata": {
        "id": "JZG4UIdBWPOE",
        "colab": {
          "base_uri": "https://localhost:8080/"
        },
        "outputId": "80fac317-8025-41f9-fa54-e7a2c990fecf"
      },
      "execution_count": 13,
      "outputs": [
        {
          "output_type": "stream",
          "name": "stdout",
          "text": [
            "[1, 2, 4, 5]\n"
          ]
        }
      ]
    },
    {
      "cell_type": "code",
      "source": [
        "#insert an element in list\n",
        "a=[1,2,3,4,5]\n",
        "a.insert(2,6)\n",
        "print(a)"
      ],
      "metadata": {
        "id": "Vr37MZJdWYpx",
        "colab": {
          "base_uri": "https://localhost:8080/"
        },
        "outputId": "5bdea358-0463-4a35-d244-2cb4d4b350d5"
      },
      "execution_count": 14,
      "outputs": [
        {
          "output_type": "stream",
          "name": "stdout",
          "text": [
            "[1, 2, 6, 3, 4, 5]\n"
          ]
        }
      ]
    },
    {
      "cell_type": "code",
      "source": [
        "#copy elements from one list to another\n",
        "a=[1,2,3,4,5]\n",
        "b=[]\n",
        "for i in a:\n",
        "    b.append(i)\n",
        "print(b)"
      ],
      "metadata": {
        "id": "RK3QGzENWov7",
        "colab": {
          "base_uri": "https://localhost:8080/"
        },
        "outputId": "5491c8cc-3b90-4cc0-bfcf-df8f5a61717a"
      },
      "execution_count": 15,
      "outputs": [
        {
          "output_type": "stream",
          "name": "stdout",
          "text": [
            "[1, 2, 3, 4, 5]\n"
          ]
        }
      ]
    },
    {
      "cell_type": "code",
      "source": [
        "#extend in list\n",
        "a=[1,2,3,4,5]\n",
        "b=[6,7,8,9,10]\n",
        "a.extend(b)\n",
        "print(a)"
      ],
      "metadata": {
        "id": "OHE-qxMsWziP",
        "colab": {
          "base_uri": "https://localhost:8080/"
        },
        "outputId": "8921dc10-d84e-46ab-bf37-aee0e9bb1688"
      },
      "execution_count": 16,
      "outputs": [
        {
          "output_type": "stream",
          "name": "stdout",
          "text": [
            "[1, 2, 3, 4, 5, 6, 7, 8, 9, 10]\n"
          ]
        }
      ]
    },
    {
      "cell_type": "code",
      "source": [
        "#reverse a list\n",
        "a=[1,2,3,4,5]\n",
        "a.reverse()\n",
        "print(a)"
      ],
      "metadata": {
        "id": "sKQE8TqlW_Gd",
        "colab": {
          "base_uri": "https://localhost:8080/"
        },
        "outputId": "56542f2f-1348-4754-824b-2ddbf7f8bcaa"
      },
      "execution_count": 17,
      "outputs": [
        {
          "output_type": "stream",
          "name": "stdout",
          "text": [
            "[5, 4, 3, 2, 1]\n"
          ]
        }
      ]
    },
    {
      "cell_type": "code",
      "source": [
        "#clear a list\n",
        "a=[1,2,3,4,5]\n",
        "a.clear()\n",
        "print(a)"
      ],
      "metadata": {
        "id": "Am3KpChLXIPQ",
        "colab": {
          "base_uri": "https://localhost:8080/"
        },
        "outputId": "62a1aa7f-3022-4b3d-8ef3-8d1028c77575"
      },
      "execution_count": 18,
      "outputs": [
        {
          "output_type": "stream",
          "name": "stdout",
          "text": [
            "[]\n"
          ]
        }
      ]
    },
    {
      "cell_type": "code",
      "source": [
        "#slicing the elements\n",
        "a=[1,2,3,4,5]\n",
        "print(a[1:4])"
      ],
      "metadata": {
        "id": "lbPueqBTXRky",
        "colab": {
          "base_uri": "https://localhost:8080/"
        },
        "outputId": "4eb97ed4-f79a-43cf-b296-bd743643ae5b"
      },
      "execution_count": 19,
      "outputs": [
        {
          "output_type": "stream",
          "name": "stdout",
          "text": [
            "[2, 3, 4]\n"
          ]
        }
      ]
    },
    {
      "cell_type": "code",
      "source": [
        "#creating a set\n",
        "a={1,2,3,4,5}\n",
        "print(a)"
      ],
      "metadata": {
        "id": "J4c73LkUXn2S",
        "colab": {
          "base_uri": "https://localhost:8080/"
        },
        "outputId": "2f3e8093-6def-4304-8d55-9f4656984ff2"
      },
      "execution_count": 20,
      "outputs": [
        {
          "output_type": "stream",
          "name": "stdout",
          "text": [
            "{1, 2, 3, 4, 5}\n"
          ]
        }
      ]
    },
    {
      "cell_type": "code",
      "source": [
        "#using union in set\n",
        "a={1,2,3,4,5}\n",
        "b={6,7,8,9,10}\n",
        "c=a.union(b)\n",
        "print(c)"
      ],
      "metadata": {
        "id": "MhbqiGnEct0J",
        "colab": {
          "base_uri": "https://localhost:8080/"
        },
        "outputId": "a6a54239-1992-4727-d494-b2b3b8bac1c7"
      },
      "execution_count": 21,
      "outputs": [
        {
          "output_type": "stream",
          "name": "stdout",
          "text": [
            "{1, 2, 3, 4, 5, 6, 7, 8, 9, 10}\n"
          ]
        }
      ]
    },
    {
      "cell_type": "code",
      "source": [
        "#using intersection in set\n",
        "a={1,2,3,4,5}\n",
        "b={6,7,8,9,10}\n",
        "c=a.intersection(b)\n",
        "print(c)"
      ],
      "metadata": {
        "id": "WjdwZUbwczIL",
        "colab": {
          "base_uri": "https://localhost:8080/"
        },
        "outputId": "c85f1d2a-c697-4bf9-8329-06acdd07e585"
      },
      "execution_count": 22,
      "outputs": [
        {
          "output_type": "stream",
          "name": "stdout",
          "text": [
            "set()\n"
          ]
        }
      ]
    },
    {
      "cell_type": "code",
      "source": [
        "#using difference in set\n",
        "a={1,2,3,4,5}\n",
        "b={6,7,8,9,10}\n",
        "c=a.difference(b)\n",
        "print(c)"
      ],
      "metadata": {
        "id": "qXPw0DRfc5tf",
        "colab": {
          "base_uri": "https://localhost:8080/"
        },
        "outputId": "ccac6ac9-cb9a-454f-f410-7d595b890855"
      },
      "execution_count": 23,
      "outputs": [
        {
          "output_type": "stream",
          "name": "stdout",
          "text": [
            "{1, 2, 3, 4, 5}\n"
          ]
        }
      ]
    },
    {
      "cell_type": "code",
      "source": [
        "#using symmetric difference\n",
        "a={1,2,3,4,5}\n",
        "b={6,7,8,9,10}\n",
        "c=a.symmetric_difference(b)\n",
        "print(c)"
      ],
      "metadata": {
        "id": "hrO5bz0Xc95A",
        "colab": {
          "base_uri": "https://localhost:8080/"
        },
        "outputId": "198bd72d-3bfb-4c3d-d00b-2f943a507d72"
      },
      "execution_count": 24,
      "outputs": [
        {
          "output_type": "stream",
          "name": "stdout",
          "text": [
            "{1, 2, 3, 4, 5, 6, 7, 8, 9, 10}\n"
          ]
        }
      ]
    },
    {
      "cell_type": "code",
      "source": [
        "#adding an element to set\n",
        "a={1,2,3,4,5}\n",
        "a.add(6)\n",
        "print(a)"
      ],
      "metadata": {
        "id": "IrKKJ6rJdC5J",
        "colab": {
          "base_uri": "https://localhost:8080/"
        },
        "outputId": "bbe8b5f6-4b16-4172-b4c7-1f8909afc603"
      },
      "execution_count": 25,
      "outputs": [
        {
          "output_type": "stream",
          "name": "stdout",
          "text": [
            "{1, 2, 3, 4, 5, 6}\n"
          ]
        }
      ]
    },
    {
      "cell_type": "code",
      "source": [
        "#remove an element in set\n",
        "a={1,2,3,4,5}\n",
        "a.remove(3)\n",
        "print(a)"
      ],
      "metadata": {
        "colab": {
          "base_uri": "https://localhost:8080/"
        },
        "id": "MhJ0L1GfdHzh",
        "outputId": "9fa7162e-623f-4489-81f5-d0189dfd1c84"
      },
      "execution_count": 26,
      "outputs": [
        {
          "output_type": "stream",
          "name": "stdout",
          "text": [
            "{1, 2, 4, 5}\n"
          ]
        }
      ]
    },
    {
      "cell_type": "code",
      "source": [
        "#discard operation in set\n",
        "a={1,2,3,4,5}\n",
        "a.discard(3)\n",
        "print(a)"
      ],
      "metadata": {
        "colab": {
          "base_uri": "https://localhost:8080/"
        },
        "id": "9nlcrws3dTOm",
        "outputId": "ea4d6f32-63c8-467a-fe88-69c47f7801ec"
      },
      "execution_count": 27,
      "outputs": [
        {
          "output_type": "stream",
          "name": "stdout",
          "text": [
            "{1, 2, 4, 5}\n"
          ]
        }
      ]
    },
    {
      "cell_type": "code",
      "source": [
        "#pop operation in set\n",
        "a={1,2,3,4,5}\n",
        "a.pop()\n",
        "print(a)"
      ],
      "metadata": {
        "id": "4RAGCit0dYtO",
        "colab": {
          "base_uri": "https://localhost:8080/"
        },
        "outputId": "d729fcc1-a0a6-4818-c5ec-b6bd8c256d18"
      },
      "execution_count": 28,
      "outputs": [
        {
          "output_type": "stream",
          "name": "stdout",
          "text": [
            "{2, 3, 4, 5}\n"
          ]
        }
      ]
    },
    {
      "cell_type": "code",
      "source": [
        "#clear operation in set\n",
        "a={1,2,3,4,5}\n",
        "a.clear()\n",
        "print(a)"
      ],
      "metadata": {
        "id": "jlA6qC8Bdg-t",
        "colab": {
          "base_uri": "https://localhost:8080/"
        },
        "outputId": "3d39a9bd-75a4-45a6-b5d4-205e6234baf8"
      },
      "execution_count": 29,
      "outputs": [
        {
          "output_type": "stream",
          "name": "stdout",
          "text": [
            "set()\n"
          ]
        }
      ]
    },
    {
      "cell_type": "code",
      "source": [
        "#copy operation in two sets\n",
        "a={1,2,3,4,5}\n",
        "b=(a)\n",
        "print(b)"
      ],
      "metadata": {
        "id": "WmqVzVEXdrrT",
        "colab": {
          "base_uri": "https://localhost:8080/"
        },
        "outputId": "b7b957f0-2a1f-4250-9084-9b135bfb0459"
      },
      "execution_count": 30,
      "outputs": [
        {
          "output_type": "stream",
          "name": "stdout",
          "text": [
            "{1, 2, 3, 4, 5}\n"
          ]
        }
      ]
    },
    {
      "cell_type": "code",
      "source": [
        "#update operation in sets\n",
        "a={1,2,3,4,5}\n",
        "b={6,7,8,9,10}\n",
        "a.update(b)\n",
        "print(a)"
      ],
      "metadata": {
        "id": "bn0gbXTwd1CD",
        "colab": {
          "base_uri": "https://localhost:8080/"
        },
        "outputId": "32f45e55-e507-48ce-be7b-e89b7a72fa64"
      },
      "execution_count": 31,
      "outputs": [
        {
          "output_type": "stream",
          "name": "stdout",
          "text": [
            "{1, 2, 3, 4, 5, 6, 7, 8, 9, 10}\n"
          ]
        }
      ]
    },
    {
      "cell_type": "code",
      "source": [
        "#using is sub set in sets\n",
        "a={1,2,3,4,5}\n",
        "b={6,7,8,9,10}\n",
        "c=a.issubset(b)\n",
        "print(c)"
      ],
      "metadata": {
        "id": "DA-1hogAd4xK",
        "colab": {
          "base_uri": "https://localhost:8080/"
        },
        "outputId": "5443046c-90bd-4f50-9ae2-91d1a4008972"
      },
      "execution_count": 32,
      "outputs": [
        {
          "output_type": "stream",
          "name": "stdout",
          "text": [
            "False\n"
          ]
        }
      ]
    },
    {
      "cell_type": "code",
      "source": [
        "#checking an element using in keyword\n",
        "a={1,2,3,4,5}\n",
        "print(3 in a)"
      ],
      "metadata": {
        "id": "KwUxZVzRd9Cs",
        "colab": {
          "base_uri": "https://localhost:8080/"
        },
        "outputId": "ca00d5bd-7f0d-42b3-e55a-0debca616faa"
      },
      "execution_count": 33,
      "outputs": [
        {
          "output_type": "stream",
          "name": "stdout",
          "text": [
            "True\n"
          ]
        }
      ]
    },
    {
      "cell_type": "code",
      "source": [
        "#frozen set usage\n",
        "a=frozenset({1,2,3,4,5})\n",
        "print(a)"
      ],
      "metadata": {
        "id": "83JaaEFDeL-I",
        "colab": {
          "base_uri": "https://localhost:8080/"
        },
        "outputId": "fb6146da-64be-4b07-b983-b5be526e56ad"
      },
      "execution_count": 34,
      "outputs": [
        {
          "output_type": "stream",
          "name": "stdout",
          "text": [
            "frozenset({1, 2, 3, 4, 5})\n"
          ]
        }
      ]
    },
    {
      "cell_type": "code",
      "source": [
        "#creating a tuple\n",
        "a=(1,2,3,4,5)\n",
        "print(a)"
      ],
      "metadata": {
        "id": "FveTrzexehBf",
        "colab": {
          "base_uri": "https://localhost:8080/"
        },
        "outputId": "2a3448b8-8e95-4d31-c4ca-7bf076cfd17f"
      },
      "execution_count": 35,
      "outputs": [
        {
          "output_type": "stream",
          "name": "stdout",
          "text": [
            "(1, 2, 3, 4, 5)\n"
          ]
        }
      ]
    },
    {
      "cell_type": "code",
      "source": [
        "#usage of tuple constructor\n",
        "a=tuple([1,2,3,4,5])\n",
        "print(a)"
      ],
      "metadata": {
        "id": "9Of_m1SbeoL-",
        "colab": {
          "base_uri": "https://localhost:8080/"
        },
        "outputId": "4bca7575-bb83-41b1-ae19-75009d394b57"
      },
      "execution_count": 36,
      "outputs": [
        {
          "output_type": "stream",
          "name": "stdout",
          "text": [
            "(1, 2, 3, 4, 5)\n"
          ]
        }
      ]
    },
    {
      "cell_type": "code",
      "source": [
        "#printing the second element in tuple\n",
        "a=(1,2,3,4,5)\n",
        "print(a[1])"
      ],
      "metadata": {
        "id": "cCH_Tc2geuR7",
        "colab": {
          "base_uri": "https://localhost:8080/"
        },
        "outputId": "82beef7f-1ff0-45c8-dd0e-eab4c85d5648"
      },
      "execution_count": 37,
      "outputs": [
        {
          "output_type": "stream",
          "name": "stdout",
          "text": [
            "2\n"
          ]
        }
      ]
    },
    {
      "cell_type": "code",
      "source": [
        "#convert tuple to list\n",
        "a=(1,2,3,4,5)\n",
        "b=list(a)\n",
        "print(b)"
      ],
      "metadata": {
        "id": "XXwbUsuve2oz",
        "colab": {
          "base_uri": "https://localhost:8080/"
        },
        "outputId": "5bde024c-4940-4c7c-cff6-49a3aaea6589"
      },
      "execution_count": 38,
      "outputs": [
        {
          "output_type": "stream",
          "name": "stdout",
          "text": [
            "[1, 2, 3, 4, 5]\n"
          ]
        }
      ]
    },
    {
      "cell_type": "code",
      "source": [
        "#usage of asterisk in tuple\n",
        "a=(1,2,3,4,5)\n",
        "b,*c=a\n",
        "print(b)\n",
        "print(c)"
      ],
      "metadata": {
        "id": "uowrPCfZe894",
        "colab": {
          "base_uri": "https://localhost:8080/"
        },
        "outputId": "4c3c8924-8c22-44a9-a582-fee41c6a9fe2"
      },
      "execution_count": 39,
      "outputs": [
        {
          "output_type": "stream",
          "name": "stdout",
          "text": [
            "1\n",
            "[2, 3, 4, 5]\n"
          ]
        }
      ]
    },
    {
      "cell_type": "code",
      "source": [
        "#usage of for loop in tuples\n",
        "a=(1,2,3,4,5)\n",
        "for i in a:\n",
        "    print(i)"
      ],
      "metadata": {
        "id": "oL4A50MGfLDM",
        "colab": {
          "base_uri": "https://localhost:8080/"
        },
        "outputId": "0be87cca-2834-46a3-d6bf-2b996f1c2d3f"
      },
      "execution_count": 40,
      "outputs": [
        {
          "output_type": "stream",
          "name": "stdout",
          "text": [
            "1\n",
            "2\n",
            "3\n",
            "4\n",
            "5\n"
          ]
        }
      ]
    },
    {
      "cell_type": "code",
      "source": [
        "#joining of tuples\n",
        "a=(1,2,3,4,5)\n",
        "b=(6,7,8,9,10)\n",
        "c=a+b\n",
        "print(c)"
      ],
      "metadata": {
        "id": "LekkocxrfQ9d",
        "colab": {
          "base_uri": "https://localhost:8080/"
        },
        "outputId": "793244cc-747f-4b66-f42e-2f71bdd7a2ed"
      },
      "execution_count": 41,
      "outputs": [
        {
          "output_type": "stream",
          "name": "stdout",
          "text": [
            "(1, 2, 3, 4, 5, 6, 7, 8, 9, 10)\n"
          ]
        }
      ]
    },
    {
      "cell_type": "code",
      "source": [
        "#making multiple tuples\n",
        "a=(1,2,3,4,5)\n",
        "b=(6,7,8,9,10)\n",
        "c=(a,b)\n",
        "print(c)"
      ],
      "metadata": {
        "colab": {
          "base_uri": "https://localhost:8080/"
        },
        "id": "EP3-sWDqfUkU",
        "outputId": "41288778-0905-4ea1-8538-b3c94b9bcec5"
      },
      "execution_count": 42,
      "outputs": [
        {
          "output_type": "stream",
          "name": "stdout",
          "text": [
            "((1, 2, 3, 4, 5), (6, 7, 8, 9, 10))\n"
          ]
        }
      ]
    },
    {
      "cell_type": "code",
      "source": [
        "#usage of count in tuples\n",
        "a=(1,2,3,4,5)\n",
        "print(a.count(3))"
      ],
      "metadata": {
        "colab": {
          "base_uri": "https://localhost:8080/"
        },
        "id": "8a62lgKffeGY",
        "outputId": "22ce6a5c-a27c-4811-f4ae-df5bb09da745"
      },
      "execution_count": 43,
      "outputs": [
        {
          "output_type": "stream",
          "name": "stdout",
          "text": [
            "1\n"
          ]
        }
      ]
    },
    {
      "cell_type": "code",
      "source": [
        "#usage of index method in tuples\n",
        "a=(1,2,3,4,5)\n",
        "print(a.index(3))"
      ],
      "metadata": {
        "id": "Nj0jzfYOfyzE",
        "colab": {
          "base_uri": "https://localhost:8080/"
        },
        "outputId": "6741a135-d6fe-4da4-c016-d03991ead486"
      },
      "execution_count": 44,
      "outputs": [
        {
          "output_type": "stream",
          "name": "stdout",
          "text": [
            "2\n"
          ]
        }
      ]
    },
    {
      "cell_type": "code",
      "source": [
        "#finding length of tuple\n",
        "a=(1,2,3,4,5)\n",
        "print(len(a))"
      ],
      "metadata": {
        "id": "T1f60VJ0f500",
        "colab": {
          "base_uri": "https://localhost:8080/"
        },
        "outputId": "4a15c391-ed89-4340-e227-c00f7d52f3de"
      },
      "execution_count": 45,
      "outputs": [
        {
          "output_type": "stream",
          "name": "stdout",
          "text": [
            "5\n"
          ]
        }
      ]
    },
    {
      "cell_type": "code",
      "source": [
        "#smallest among tuple\n",
        "a=(1,2,3,4,5)\n",
        "print(min(a))"
      ],
      "metadata": {
        "id": "XOBOm_9ggAuP",
        "colab": {
          "base_uri": "https://localhost:8080/"
        },
        "outputId": "bd9f6814-4a85-4707-c763-0708e80397b4"
      },
      "execution_count": 46,
      "outputs": [
        {
          "output_type": "stream",
          "name": "stdout",
          "text": [
            "1\n"
          ]
        }
      ]
    },
    {
      "cell_type": "code",
      "source": [
        "#sort in tuple\n",
        "a=(1,2,3,4,5)\n",
        "b=sorted(a)\n",
        "print(b)"
      ],
      "metadata": {
        "id": "Q7-V-d0rgHcG",
        "colab": {
          "base_uri": "https://localhost:8080/"
        },
        "outputId": "f7428a53-ed83-43a7-a900-33aa96176ce4"
      },
      "execution_count": 47,
      "outputs": [
        {
          "output_type": "stream",
          "name": "stdout",
          "text": [
            "[1, 2, 3, 4, 5]\n"
          ]
        }
      ]
    },
    {
      "cell_type": "code",
      "source": [
        "#creating a dictionary\n",
        "a={'a':1,'b':2,'c':3}\n",
        "print(a)"
      ],
      "metadata": {
        "id": "NZiejwnjgLi5",
        "colab": {
          "base_uri": "https://localhost:8080/"
        },
        "outputId": "b56e12de-c5c7-40f5-9380-3989d185c72a"
      },
      "execution_count": 48,
      "outputs": [
        {
          "output_type": "stream",
          "name": "stdout",
          "text": [
            "{'a': 1, 'b': 2, 'c': 3}\n"
          ]
        }
      ]
    },
    {
      "cell_type": "code",
      "source": [
        "#accessing and modifying values in dictionary\n",
        "a={'a':1,'b':2,'c':3}\n",
        "print(a['a'])\n",
        "a['b']=4\n",
        "print(a)"
      ],
      "metadata": {
        "colab": {
          "base_uri": "https://localhost:8080/"
        },
        "id": "poKQQRqmhXpH",
        "outputId": "89429dab-81eb-4b44-c992-0aed3b630a30"
      },
      "execution_count": 49,
      "outputs": [
        {
          "output_type": "stream",
          "name": "stdout",
          "text": [
            "1\n",
            "{'a': 1, 'b': 4, 'c': 3}\n"
          ]
        }
      ]
    },
    {
      "cell_type": "code",
      "source": [
        "#usage keys in dictionary\n",
        "a={'a':1,'b':2,'c':3}\n",
        "print(a.keys())"
      ],
      "metadata": {
        "colab": {
          "base_uri": "https://localhost:8080/"
        },
        "id": "zHJ7qaq6hfV3",
        "outputId": "6941aa2e-e350-49c0-f4c4-6a8176aa7d34"
      },
      "execution_count": 50,
      "outputs": [
        {
          "output_type": "stream",
          "name": "stdout",
          "text": [
            "dict_keys(['a', 'b', 'c'])\n"
          ]
        }
      ]
    },
    {
      "cell_type": "code",
      "source": [
        "#usage of items in dictionary\n",
        "a={'a':1,'b':2,'c':3}\n",
        "print(a.items())"
      ],
      "metadata": {
        "colab": {
          "base_uri": "https://localhost:8080/"
        },
        "id": "d2ffFeDeiF1H",
        "outputId": "39160b15-8f72-46a0-e29f-6f16fdfbd22c"
      },
      "execution_count": 51,
      "outputs": [
        {
          "output_type": "stream",
          "name": "stdout",
          "text": [
            "dict_items([('a', 1), ('b', 2), ('c', 3)])\n"
          ]
        }
      ]
    },
    {
      "cell_type": "code",
      "source": [
        "#usage of get in dictionary\n",
        "a={'apple':1,'orange':2}\n",
        "print(a.get('apple'))"
      ],
      "metadata": {
        "colab": {
          "base_uri": "https://localhost:8080/"
        },
        "id": "fGs8pkYfiKXo",
        "outputId": "d3f9fb0b-6b61-45bf-be33-9a5fe64f9677"
      },
      "execution_count": 52,
      "outputs": [
        {
          "output_type": "stream",
          "name": "stdout",
          "text": [
            "1\n"
          ]
        }
      ]
    },
    {
      "cell_type": "code",
      "source": [
        "#usage of pop in dictionary\n",
        "a={'apple':1,'orange':2}\n",
        "a.pop('apple')\n",
        "print(a)"
      ],
      "metadata": {
        "colab": {
          "base_uri": "https://localhost:8080/"
        },
        "id": "MTA14OHzijSe",
        "outputId": "15a0cc07-5ab4-4358-8f89-1500c571b2e0"
      },
      "execution_count": 53,
      "outputs": [
        {
          "output_type": "stream",
          "name": "stdout",
          "text": [
            "{'orange': 2}\n"
          ]
        }
      ]
    },
    {
      "cell_type": "code",
      "source": [
        "#usage of clear in dictionary\n",
        "a={'apple':1,'orange':2}\n",
        "a.clear()\n",
        "print(a)"
      ],
      "metadata": {
        "colab": {
          "base_uri": "https://localhost:8080/"
        },
        "id": "wLNEYGSHipSi",
        "outputId": "82eb00df-b9f6-4e12-cba2-98afac91387e"
      },
      "execution_count": 54,
      "outputs": [
        {
          "output_type": "stream",
          "name": "stdout",
          "text": [
            "{}\n"
          ]
        }
      ]
    },
    {
      "cell_type": "code",
      "source": [
        "#usage of copy in dictionary\n",
        "a={'apple':1,'orange':2}\n",
        "b=a.copy()\n",
        "print(b)"
      ],
      "metadata": {
        "colab": {
          "base_uri": "https://localhost:8080/"
        },
        "id": "5CFkeWN-iwqS",
        "outputId": "5e12478c-f787-4c24-b8d0-6dc37220a7c5"
      },
      "execution_count": 55,
      "outputs": [
        {
          "output_type": "stream",
          "name": "stdout",
          "text": [
            "{'apple': 1, 'orange': 2}\n"
          ]
        }
      ]
    },
    {
      "cell_type": "code",
      "source": [
        "#adding an element in dictionary\n",
        "a={'apple':1,'orange':2}\n",
        "a['banana']=3\n",
        "print(a)"
      ],
      "metadata": {
        "colab": {
          "base_uri": "https://localhost:8080/"
        },
        "id": "mDrwXJtzi07Y",
        "outputId": "74cc8a83-c02b-4252-fc87-414cefe18377"
      },
      "execution_count": 56,
      "outputs": [
        {
          "output_type": "stream",
          "name": "stdout",
          "text": [
            "{'apple': 1, 'orange': 2, 'banana': 3}\n"
          ]
        }
      ]
    },
    {
      "cell_type": "code",
      "source": [
        "#removing an element in dictionary\n",
        "a={'apple':1,'orange':2}\n",
        "a.pop('apple')\n",
        "print(a)"
      ],
      "metadata": {
        "colab": {
          "base_uri": "https://localhost:8080/"
        },
        "id": "G3_Bz_nvi5RJ",
        "outputId": "5dfb2a19-ee38-4a2c-f957-01fd7c480b6e"
      },
      "execution_count": 57,
      "outputs": [
        {
          "output_type": "stream",
          "name": "stdout",
          "text": [
            "{'orange': 2}\n"
          ]
        }
      ]
    },
    {
      "cell_type": "code",
      "source": [
        "#creating a list from two lists\n",
        "a=[1,2,3,4,5]\n",
        "b=['a','b','c','d','e']\n",
        "c=dict(zip(a,b))\n",
        "print(c)"
      ],
      "metadata": {
        "colab": {
          "base_uri": "https://localhost:8080/"
        },
        "id": "xqHHwdg2i9bs",
        "outputId": "ee7ed421-61d5-40c2-e03b-28f2cf893156"
      },
      "execution_count": 58,
      "outputs": [
        {
          "output_type": "stream",
          "name": "stdout",
          "text": [
            "{1: 'a', 2: 'b', 3: 'c', 4: 'd', 5: 'e'}\n"
          ]
        }
      ]
    },
    {
      "cell_type": "code",
      "source": [
        "#inverting an dictionary\n",
        "a={'a':1,'b':2,'c':3}\n",
        "b=dict((v,k) for k,v in a.items())\n",
        "print(b)"
      ],
      "metadata": {
        "colab": {
          "base_uri": "https://localhost:8080/"
        },
        "id": "H2c4sfrFjKTh",
        "outputId": "9bde2e73-1928-4589-9990-406887bda15a"
      },
      "execution_count": 59,
      "outputs": [
        {
          "output_type": "stream",
          "name": "stdout",
          "text": [
            "{1: 'a', 2: 'b', 3: 'c'}\n"
          ]
        }
      ]
    },
    {
      "cell_type": "code",
      "source": [
        "#sort in dictionary\n",
        "a={'apple':1,'orange':2}\n",
        "b=sorted(a)\n",
        "print(b)"
      ],
      "metadata": {
        "colab": {
          "base_uri": "https://localhost:8080/"
        },
        "id": "v3XY4Mo-jXQw",
        "outputId": "92055242-53e0-439a-c907-d0942d7a55ca"
      },
      "execution_count": 60,
      "outputs": [
        {
          "output_type": "stream",
          "name": "stdout",
          "text": [
            "['apple', 'orange']\n"
          ]
        }
      ]
    },
    {
      "cell_type": "code",
      "source": [],
      "metadata": {
        "id": "Cr-YezaEjgUd"
      },
      "execution_count": 60,
      "outputs": []
    }
  ]
}